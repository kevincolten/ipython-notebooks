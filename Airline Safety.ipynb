{
 "cells": [
  {
   "cell_type": "code",
   "execution_count": 6,
   "metadata": {},
   "outputs": [],
   "source": [
    "import pandas as pd\n",
    "import urllib2\n",
    "import json\n",
    "import copy\n",
    "import csv"
   ]
  },
  {
   "cell_type": "code",
   "execution_count": 18,
   "metadata": {},
   "outputs": [],
   "source": [
    "airlineSafety = pd.read_csv(urllib2.urlopen('https://raw.githubusercontent.com/fivethirtyeight/data/master/airline-safety/airline-safety.csv'))"
   ]
  },
  {
   "cell_type": "code",
   "execution_count": 20,
   "metadata": {},
   "outputs": [
    {
     "name": "stdout",
     "output_type": "stream",
     "text": [
      "                 airline  avail_seat_km_per_week  incidents_85_99  \\\n",
      "0             Aer Lingus               320906734                2   \n",
      "1              Aeroflot*              1197672318               76   \n",
      "2  Aerolineas Argentinas               385803648                6   \n",
      "3            Aeromexico*               596871813                3   \n",
      "4             Air Canada              1865253802                2   \n",
      "\n",
      "   fatal_accidents_85_99  fatalities_85_99  incidents_00_14  \\\n",
      "0                      0                 0                0   \n",
      "1                     14               128                6   \n",
      "2                      0                 0                1   \n",
      "3                      1                64                5   \n",
      "4                      0                 0                2   \n",
      "\n",
      "   fatal_accidents_00_14  fatalities_00_14  \n",
      "0                      0                 0  \n",
      "1                      1                88  \n",
      "2                      0                 0  \n",
      "3                      0                 0  \n",
      "4                      0                 0  \n"
     ]
    }
   ],
   "source": [
    "print airlineSafety.head(5)"
   ]
  },
  {
   "cell_type": "code",
   "execution_count": null,
   "metadata": {
    "collapsed": true
   },
   "outputs": [],
   "source": []
  }
 ],
 "metadata": {
  "kernelspec": {
   "display_name": "Python 2",
   "language": "python",
   "name": "python2"
  },
  "language_info": {
   "codemirror_mode": {
    "name": "ipython",
    "version": 2
   },
   "file_extension": ".py",
   "mimetype": "text/x-python",
   "name": "python",
   "nbconvert_exporter": "python",
   "pygments_lexer": "ipython2",
   "version": "2.7.13"
  }
 },
 "nbformat": 4,
 "nbformat_minor": 2
}
